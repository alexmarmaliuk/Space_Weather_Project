{
 "cells": [
  {
   "cell_type": "code",
   "execution_count": 1,
   "id": "bb4fa911",
   "metadata": {},
   "outputs": [
    {
     "name": "stdout",
     "output_type": "stream",
     "text": [
      "Defaulting to user installation because normal site-packages is not writeable\n",
      "Requirement already satisfied: EMD-signal in c:\\users\\admin\\appdata\\roaming\\python\\python313\\site-packages (1.6.4)\n",
      "Requirement already satisfied: numpy>=1.12 in c:\\users\\admin\\appdata\\roaming\\python\\python313\\site-packages (from EMD-signal) (2.2.4)\n",
      "Requirement already satisfied: scipy>=0.19 in c:\\users\\admin\\appdata\\roaming\\python\\python313\\site-packages (from EMD-signal) (1.15.3)\n",
      "Requirement already satisfied: pathos>=0.2.1 in c:\\users\\admin\\appdata\\roaming\\python\\python313\\site-packages (from EMD-signal) (0.3.4)\n",
      "Requirement already satisfied: tqdm<5.0,>=4.64.0 in c:\\users\\admin\\appdata\\roaming\\python\\python313\\site-packages (from EMD-signal) (4.67.1)\n",
      "Requirement already satisfied: ppft>=1.7.7 in c:\\users\\admin\\appdata\\roaming\\python\\python313\\site-packages (from pathos>=0.2.1->EMD-signal) (1.7.7)\n",
      "Requirement already satisfied: dill>=0.4.0 in c:\\users\\admin\\appdata\\roaming\\python\\python313\\site-packages (from pathos>=0.2.1->EMD-signal) (0.4.0)\n",
      "Requirement already satisfied: pox>=0.3.6 in c:\\users\\admin\\appdata\\roaming\\python\\python313\\site-packages (from pathos>=0.2.1->EMD-signal) (0.3.6)\n",
      "Requirement already satisfied: multiprocess>=0.70.18 in c:\\users\\admin\\appdata\\roaming\\python\\python313\\site-packages (from pathos>=0.2.1->EMD-signal) (0.70.18)\n",
      "Requirement already satisfied: colorama in c:\\users\\admin\\appdata\\roaming\\python\\python313\\site-packages (from tqdm<5.0,>=4.64.0->EMD-signal) (0.4.6)\n"
     ]
    },
    {
     "name": "stderr",
     "output_type": "stream",
     "text": [
      "\n",
      "[notice] A new release of pip is available: 25.0.1 -> 25.1.1\n",
      "[notice] To update, run: C:\\Python313\\python.exe -m pip install --upgrade pip\n"
     ]
    }
   ],
   "source": [
    "!pip install EMD-signal"
   ]
  },
  {
   "cell_type": "code",
   "execution_count": 2,
   "id": "3f9939f4",
   "metadata": {},
   "outputs": [
    {
     "ename": "ModuleNotFoundError",
     "evalue": "No module named 'PyEMD'",
     "output_type": "error",
     "traceback": [
      "\u001b[1;31m---------------------------------------------------------------------------\u001b[0m",
      "\u001b[1;31mModuleNotFoundError\u001b[0m                       Traceback (most recent call last)",
      "Cell \u001b[1;32mIn[2], line 1\u001b[0m\n\u001b[1;32m----> 1\u001b[0m \u001b[38;5;28;01mfrom\u001b[39;00m \u001b[38;5;21;01mPyEMD\u001b[39;00m \u001b[38;5;28;01mimport\u001b[39;00m EMD\n\u001b[0;32m      2\u001b[0m \u001b[38;5;28;01mimport\u001b[39;00m \u001b[38;5;21;01mnumpy\u001b[39;00m \u001b[38;5;28;01mas\u001b[39;00m \u001b[38;5;21;01mnp\u001b[39;00m\n\u001b[0;32m      4\u001b[0m s \u001b[38;5;241m=\u001b[39m np\u001b[38;5;241m.\u001b[39mrandom\u001b[38;5;241m.\u001b[39mrandom(\u001b[38;5;241m100\u001b[39m)\n",
      "\u001b[1;31mModuleNotFoundError\u001b[0m: No module named 'PyEMD'"
     ]
    }
   ],
   "source": [
    "from PyEMD import EMD\n",
    "import numpy as np\n",
    "\n",
    "s = np.random.random(100)\n",
    "emd = EMD()\n",
    "IMFs = emd(s)"
   ]
  }
 ],
 "metadata": {
  "kernelspec": {
   "display_name": "Python 3",
   "language": "python",
   "name": "python3"
  },
  "language_info": {
   "codemirror_mode": {
    "name": "ipython",
    "version": 3
   },
   "file_extension": ".py",
   "mimetype": "text/x-python",
   "name": "python",
   "nbconvert_exporter": "python",
   "pygments_lexer": "ipython3",
   "version": "3.12.4"
  }
 },
 "nbformat": 4,
 "nbformat_minor": 5
}
