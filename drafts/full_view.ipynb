{
 "cells": [
  {
   "cell_type": "code",
   "execution_count": 23,
   "metadata": {},
   "outputs": [],
   "source": [
    "import numpy as np\n",
    "import scipy as sp\n",
    "import pandas as pd\n",
    "import streamlit as st\n",
    "import matplotlib\n",
    "# matplotlib.use('TkAgg')\n",
    "import matplotlib.pyplot as plt\n",
    "import plotly.graph_objects as go\n",
    "\n",
    "\n",
    "def load_data(file_path):\n",
    "    # file_path = 'materials/Для студентов (Геомагнитное поле)/Для студентов (Геомагнитное поле)/1-14 Jan 2024, Surlari, B-x.txt'\n",
    "    x = []\n",
    "    y = []\n",
    "\n",
    "    with open(file_path, 'r') as file:\n",
    "        for line in file:\n",
    "            if line.startswith('Time'):\n",
    "                break\n",
    "        for line in file:\n",
    "            if line.strip(): \n",
    "                parts = line.split()  \n",
    "                x.append(float(parts[0]))\n",
    "                y.append(float(parts[-1]))\n",
    "\n",
    "    x = np.array(x)\n",
    "    y = np.array(y)\n",
    "    return x, y"
   ]
  },
  {
   "cell_type": "code",
   "execution_count": 24,
   "metadata": {},
   "outputs": [],
   "source": [
    "t, x = load_data('../data/1-14 Jan 2024, Surlari, B-x.txt')\n",
    "t, y = load_data('../data/1-14 Jan 2024, Surlari, B-y.txt')\n",
    "t, z = load_data('../data/1-14 Jan 2024, Surlari, B-z.txt')"
   ]
  },
  {
   "cell_type": "code",
   "execution_count": 25,
   "metadata": {},
   "outputs": [],
   "source": [
    "x -= x.mean()\n",
    "y -= y.mean()\n",
    "z -= z.mean()"
   ]
  },
  {
   "cell_type": "code",
   "execution_count": 26,
   "metadata": {},
   "outputs": [
    {
     "name": "stdout",
     "output_type": "stream",
     "text": [
      "t.shape=(20160,)\n",
      "x.shape=(20160,)\n",
      "y.shape=(20160,)\n",
      "z.shape=(20160,)\n"
     ]
    }
   ],
   "source": [
    "print(f'{t.shape=}')\n",
    "print(f'{x.shape=}')\n",
    "print(f'{y.shape=}')\n",
    "print(f'{z.shape=}')"
   ]
  },
  {
   "cell_type": "code",
   "execution_count": 27,
   "metadata": {},
   "outputs": [
    {
     "name": "stdout",
     "output_type": "stream",
     "text": [
      "x.mean()=-1.278706241421224e-12\n",
      "y.mean()=-3.760237271466943e-14\n",
      "z.mean()=-3.4549971349493022e-12\n"
     ]
    }
   ],
   "source": [
    "print(f'{x.mean()=}')\n",
    "print(f'{y.mean()=}')\n",
    "print(f'{z.mean()=}')"
   ]
  },
  {
   "cell_type": "code",
   "execution_count": 29,
   "metadata": {},
   "outputs": [],
   "source": [
    "plt.plot(t, x, label='B-x')\n",
    "plt.plot(t, y, label='B-y')\n",
    "plt.plot(t, z, label='B-z')\n",
    "plt.title('1-14 Jan 2024, Surlari')\n",
    "plt.legend()\n",
    "plt.show()"
   ]
  },
  {
   "cell_type": "code",
   "execution_count": 10,
   "metadata": {},
   "outputs": [],
   "source": [
    "# matplotlib.use('TkAgg') \n",
    "plt.plot([1, 2, 3], [4, 5, 6])\n",
    "plt.show()"
   ]
  }
 ],
 "metadata": {
  "kernelspec": {
   "display_name": "base",
   "language": "python",
   "name": "python3"
  },
  "language_info": {
   "codemirror_mode": {
    "name": "ipython",
    "version": 3
   },
   "file_extension": ".py",
   "mimetype": "text/x-python",
   "name": "python",
   "nbconvert_exporter": "python",
   "pygments_lexer": "ipython3",
   "version": "3.11.8"
  }
 },
 "nbformat": 4,
 "nbformat_minor": 2
}
