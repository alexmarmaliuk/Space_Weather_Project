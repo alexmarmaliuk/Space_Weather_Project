{
 "cells": [
  {
   "cell_type": "code",
   "execution_count": 1,
   "metadata": {},
   "outputs": [
    {
     "name": "stdout",
     "output_type": "stream",
     "text": [
      "Every 30th line has been saved to (simplified) 10-12 May 2024 Mayaki Superstorm Bx.txt.\n"
     ]
    }
   ],
   "source": [
    "input_file = \"10-12 May 2024 Mayaki Superstorm Bx.txt\"\n",
    "output_file = \"(simplified) 10-12 May 2024 Mayaki Superstorm Bx.txt\"\n",
    "\n",
    "n = 30\n",
    "\n",
    "line_num = 0\n",
    "with open(input_file, \"r\") as infile:\n",
    "    with open(output_file, \"w\") as outfile:\n",
    "        for line in infile:\n",
    "            line_num += 1\n",
    "            if line_num % n == 0:\n",
    "                outfile.write(line)\n",
    "\n",
    "print(f\"Every {n}th line has been saved to {output_file}.\")"
   ]
  }
 ],
 "metadata": {
  "kernelspec": {
   "display_name": "base",
   "language": "python",
   "name": "python3"
  },
  "language_info": {
   "codemirror_mode": {
    "name": "ipython",
    "version": 3
   },
   "file_extension": ".py",
   "mimetype": "text/x-python",
   "name": "python",
   "nbconvert_exporter": "python",
   "pygments_lexer": "ipython3",
   "version": "3.11.8"
  }
 },
 "nbformat": 4,
 "nbformat_minor": 2
}
