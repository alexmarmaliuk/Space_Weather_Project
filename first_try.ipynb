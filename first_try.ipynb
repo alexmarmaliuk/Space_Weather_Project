{
 "cells": [
  {
   "cell_type": "code",
   "execution_count": 1,
   "metadata": {},
   "outputs": [
    {
     "ename": "ModuleNotFoundError",
     "evalue": "No module named 'pandas'",
     "output_type": "error",
     "traceback": [
      "\u001b[1;31m---------------------------------------------------------------------------\u001b[0m",
      "\u001b[1;31mModuleNotFoundError\u001b[0m                       Traceback (most recent call last)",
      "\u001b[1;32m~\\AppData\\Local\\Temp\\ipykernel_9188\\216670077.py\u001b[0m in \u001b[0;36m<module>\u001b[1;34m\u001b[0m\n\u001b[0;32m      2\u001b[0m \u001b[1;32mimport\u001b[0m \u001b[0mmatplotlib\u001b[0m\u001b[1;33m.\u001b[0m\u001b[0mpyplot\u001b[0m \u001b[1;32mas\u001b[0m \u001b[0mplt\u001b[0m\u001b[1;33m\u001b[0m\u001b[1;33m\u001b[0m\u001b[0m\n\u001b[0;32m      3\u001b[0m \u001b[1;32mimport\u001b[0m \u001b[0mscipy\u001b[0m \u001b[1;32mas\u001b[0m \u001b[0msp\u001b[0m\u001b[1;33m\u001b[0m\u001b[1;33m\u001b[0m\u001b[0m\n\u001b[1;32m----> 4\u001b[1;33m \u001b[1;32mimport\u001b[0m \u001b[0mpandas\u001b[0m \u001b[1;32mas\u001b[0m \u001b[0mpd\u001b[0m\u001b[1;33m\u001b[0m\u001b[1;33m\u001b[0m\u001b[0m\n\u001b[0m\u001b[0;32m      5\u001b[0m \u001b[1;33m\u001b[0m\u001b[0m\n\u001b[0;32m      6\u001b[0m \u001b[1;31m# from orbit.utils.dataset import load_iclaims\u001b[0m\u001b[1;33m\u001b[0m\u001b[1;33m\u001b[0m\u001b[1;33m\u001b[0m\u001b[0m\n",
      "\u001b[1;31mModuleNotFoundError\u001b[0m: No module named 'pandas'"
     ]
    }
   ],
   "source": [
    "import numpy as np\n",
    "import matplotlib.pyplot as plt\n",
    "import scipy as sp\n",
    "import pandas as pd\n",
    "\n",
    "# from orbit.utils.dataset import load_iclaims\n",
    "# from orbit.models.dlt import DLT\n",
    "# from orbit.diagnostics.plot import plot_predicted_data\n",
    "\n",
    "from sup import *"
   ]
  },
  {
   "cell_type": "markdown",
   "metadata": {},
   "source": [
    "## Load data"
   ]
  },
  {
   "cell_type": "code",
   "execution_count": 2,
   "metadata": {},
   "outputs": [],
   "source": [
    "# data = pd.read_csv('data/1-14 Jan 2024, Surlari, B-x.txt', sep=\" \", header=None)\n",
    "file_path = 'materials/Для студентов (Геомагнитное поле)/Для студентов (Геомагнитное поле)/1-14 Jan 2024, Surlari, B-x.txt'\n",
    "\n",
    "x = []\n",
    "y = []\n",
    "\n",
    "with open(file_path, 'r') as file:\n",
    "    for line in file:\n",
    "        if line.startswith('Time (Days)'):\n",
    "            break\n",
    "    for line in file:\n",
    "        if line.strip(): \n",
    "            parts = line.split()  \n",
    "            x.append(float(parts[0]))\n",
    "            y.append(float(parts[-1]))\n",
    "\n",
    "x = np.array(x)\n",
    "y = np.array(y)"
   ]
  },
  {
   "cell_type": "code",
   "execution_count": 3,
   "metadata": {},
   "outputs": [
    {
     "data": {
      "text/plain": [
       "[<matplotlib.lines.Line2D at 0x21f954bb350>]"
      ]
     },
     "execution_count": 3,
     "metadata": {},
     "output_type": "execute_result"
    },
    {
     "ename": "",
     "evalue": "",
     "output_type": "error",
     "traceback": [
      "\u001b[1;31mThe Kernel crashed while executing code in the current cell or a previous cell. \n",
      "\u001b[1;31mPlease review the code in the cell(s) to identify a possible cause of the failure. \n",
      "\u001b[1;31mClick <a href='https://aka.ms/vscodeJupyterKernelCrash'>here</a> for more info. \n",
      "\u001b[1;31mView Jupyter <a href='command:jupyter.viewOutput'>log</a> for further details."
     ]
    }
   ],
   "source": [
    "fig_size = 15\n",
    "\n",
    "ym = y - y.mean()\n",
    "fig = plt.figure(figsize=(fig_size, fig_size/2))\n",
    "plt.plot(x,ym)"
   ]
  },
  {
   "cell_type": "code",
   "execution_count": 4,
   "metadata": {},
   "outputs": [
    {
     "data": {
      "text/plain": [
       "20160"
      ]
     },
     "execution_count": 4,
     "metadata": {},
     "output_type": "execute_result"
    }
   ],
   "source": [
    "len(x)"
   ]
  },
  {
   "cell_type": "code",
   "execution_count": 5,
   "metadata": {},
   "outputs": [
    {
     "data": {
      "text/plain": [
       "array(['2024-01-01', '2024-01-02', '2024-01-03', '2024-01-04',\n",
       "       '2024-01-05', '2024-01-06', '2024-01-07', '2024-01-08',\n",
       "       '2024-01-09', '2024-01-10'], dtype='<U10')"
      ]
     },
     "execution_count": 5,
     "metadata": {},
     "output_type": "execute_result"
    }
   ],
   "source": [
    "# dates = generate_date_array(10)\n",
    "# dates"
   ]
  },
  {
   "cell_type": "code",
   "execution_count": 6,
   "metadata": {},
   "outputs": [],
   "source": [
    "data = pd.DataFrame({\n",
    "    'x': x,\n",
    "    'y': ym,\n",
    "})\n",
    "data.to_csv('data.csv')"
   ]
  },
  {
   "cell_type": "code",
   "execution_count": 7,
   "metadata": {},
   "outputs": [
    {
     "name": "stderr",
     "output_type": "stream",
     "text": [
      "2024-03-18 20:47:38 - orbit - INFO - Sampling (CmdStanPy) with chains: 4, cores: 8, temperature: 1.000, warmups (per chain): 225 and samples(per chain): 25.\n"
     ]
    },
    {
     "ename": "",
     "evalue": "",
     "output_type": "error",
     "traceback": [
      "\u001b[1;31mThe Kernel crashed while executing code in the current cell or a previous cell. \n",
      "\u001b[1;31mPlease review the code in the cell(s) to identify a possible cause of the failure. \n",
      "\u001b[1;31mClick <a href='https://aka.ms/vscodeJupyterKernelCrash'>here</a> for more info. \n",
      "\u001b[1;31mView Jupyter <a href='command:jupyter.viewOutput'>log</a> for further details."
     ]
    }
   ],
   "source": [
    "\n",
    "\n",
    "# # log-transformed data\n",
    "# # df = pd.DataFrame({\n",
    "# # 'x': [1,2,3,4,5,6,7,8,9,10],\n",
    "# # 'y': [1,2,3,4,5,6,7,8,9,10],\n",
    "# # })\n",
    "# df = load_iclaims()\n",
    "# date_col = 'week'\n",
    "# response_col = 'claims'\n",
    "# df.dtypes\n",
    "# # train-test split\n",
    "# test_size = 5\n",
    "# train_df = df[:-test_size]\n",
    "# test_df = df[-test_size:]\n",
    "\n",
    "# ets = DLT(\n",
    "#     response_col=response_col,\n",
    "#     date_col=date_col,\n",
    "#     seasonality=52,\n",
    "#     seed=2024,\n",
    "#     estimator=\"stan-mcmc\",\n",
    "#     stan_mcmc_args={'show_progress': False},\n",
    "# )\n",
    "# ets.fit(df=train_df)\n",
    "\n",
    "# predicted_df = ets.predict(df=test_df)\n",
    "\n",
    "# plot_predicted_data(\n",
    "#     training_actual_df=train_df, predicted_df=predicted_df,\n",
    "#     date_col=ets.date_col, actual_col=ets.response_col,\n",
    "#     test_actual_df=test_df\n",
    "# )"
   ]
  },
  {
   "cell_type": "code",
   "execution_count": null,
   "metadata": {},
   "outputs": [
    {
     "ename": "",
     "evalue": "",
     "output_type": "error",
     "traceback": [
      "\u001b[1;31mRunning cells with 'c:\\msys64\\mingw64\\bin\\python.exe' requires the ipykernel package.\n",
      "\u001b[1;31mRun the following command to install 'ipykernel' into the Python environment. \n",
      "\u001b[1;31mCommand: 'c:/msys64/mingw64/bin/python.exe -m pip install ipykernel -U --user --force-reinstall'"
     ]
    }
   ],
   "source": [
    "time_diffs = x[1:] - x[:-1]\n",
    "unique_values, counts = np.unique(time_diffs, return_counts=True)\n",
    "diff_value_counts = dict(zip(unique_values, counts))\n",
    "\n",
    "diff_value_counts"
   ]
  },
  {
   "cell_type": "markdown",
   "metadata": {},
   "source": [
    "## ORBIT EXPERIMENTS"
   ]
  },
  {
   "cell_type": "code",
   "execution_count": null,
   "metadata": {},
   "outputs": [
    {
     "ename": "",
     "evalue": "",
     "output_type": "error",
     "traceback": [
      "\u001b[1;31mRunning cells with 'c:\\msys64\\mingw64\\bin\\python.exe' requires the ipykernel package.\n",
      "\u001b[1;31mRun the following command to install 'ipykernel' into the Python environment. \n",
      "\u001b[1;31mCommand: 'c:/msys64/mingw64/bin/python.exe -m pip install ipykernel -U --user --force-reinstall'"
     ]
    }
   ],
   "source": [
    "# from orbit.utils.dataset import load_iclaims\n",
    "# from orbit.models.dlt import DLT\n",
    "# from orbit.diagnostics.plot import plot_predicted_data\n",
    "\n",
    "# # log-transformed data\n",
    "# # df = pd.DataFrame({\n",
    "# # 'x': [1,2,3,4,5,6,7,8,9,10],\n",
    "# # 'y': [1,2,3,4,5,6,7,8,9,10],\n",
    "# # })\n",
    "# df = load_iclaims()\n",
    "# date_col = 'week'\n",
    "# response_col = 'claims'\n",
    "# df.dtypes\n",
    "# # train-test split\n",
    "# test_size = 5\n",
    "# train_df = df[:-test_size]\n",
    "# test_df = df[-test_size:]\n",
    "\n",
    "# ets = DLT(\n",
    "#     response_col=response_col,\n",
    "#     date_col=date_col,\n",
    "#     seasonality=52,\n",
    "#     seed=2024,\n",
    "#     estimator=\"stan-mcmc\",\n",
    "#     stan_mcmc_args={'show_progress': False},\n",
    "# )\n",
    "# ets.fit(df=train_df)\n",
    "\n",
    "# predicted_df = ets.predict(df=test_df)\n",
    "\n",
    "# plot_predicted_data(\n",
    "#     training_actual_df=train_df, predicted_df=predicted_df,\n",
    "#     date_col=ets.date_col, actual_col=ets.response_col,\n",
    "#     test_actual_df=test_df\n",
    "# )"
   ]
  },
  {
   "cell_type": "code",
   "execution_count": null,
   "metadata": {},
   "outputs": [
    {
     "ename": "",
     "evalue": "",
     "output_type": "error",
     "traceback": [
      "\u001b[1;31mRunning cells with 'c:\\msys64\\mingw64\\bin\\python.exe' requires the ipykernel package.\n",
      "\u001b[1;31mRun the following command to install 'ipykernel' into the Python environment. \n",
      "\u001b[1;31mCommand: 'c:/msys64/mingw64/bin/python.exe -m pip install ipykernel -U --user --force-reinstall'"
     ]
    }
   ],
   "source": [
    "x = generate_date_array(10)\n",
    "print(x)"
   ]
  },
  {
   "cell_type": "code",
   "execution_count": null,
   "metadata": {},
   "outputs": [
    {
     "ename": "",
     "evalue": "",
     "output_type": "error",
     "traceback": [
      "\u001b[1;31mRunning cells with 'c:\\msys64\\mingw64\\bin\\python.exe' requires the ipykernel package.\n",
      "\u001b[1;31mRun the following command to install 'ipykernel' into the Python environment. \n",
      "\u001b[1;31mCommand: 'c:/msys64/mingw64/bin/python.exe -m pip install ipykernel -U --user --force-reinstall'"
     ]
    }
   ],
   "source": [
    "print(df.week)"
   ]
  },
  {
   "cell_type": "code",
   "execution_count": null,
   "metadata": {},
   "outputs": [
    {
     "ename": "",
     "evalue": "",
     "output_type": "error",
     "traceback": [
      "\u001b[1;31mRunning cells with 'c:\\msys64\\mingw64\\bin\\python.exe' requires the ipykernel package.\n",
      "\u001b[1;31mRun the following command to install 'ipykernel' into the Python environment. \n",
      "\u001b[1;31mCommand: 'c:/msys64/mingw64/bin/python.exe -m pip install ipykernel -U --user --force-reinstall'"
     ]
    }
   ],
   "source": [
    "import datetime\n",
    "\n",
    "Date = datetime.datetime(2021, 7, 1, 0.0006944) \n",
    "Date"
   ]
  }
 ],
 "metadata": {
  "kernelspec": {
   "display_name": "base",
   "language": "python",
   "name": "python3"
  },
  "language_info": {
   "codemirror_mode": {
    "name": "ipython",
    "version": 3
   },
   "file_extension": ".py",
   "mimetype": "text/x-python",
   "name": "python",
   "nbconvert_exporter": "python",
   "pygments_lexer": "ipython3",
   "version": "3.7.12"
  }
 },
 "nbformat": 4,
 "nbformat_minor": 2
}
